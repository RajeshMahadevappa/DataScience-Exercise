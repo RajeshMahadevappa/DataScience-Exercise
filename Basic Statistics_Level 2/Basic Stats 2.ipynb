{
 "cells": [
  {
   "cell_type": "code",
   "execution_count": 16,
   "id": "eca8ae79",
   "metadata": {},
   "outputs": [],
   "source": [
    "import pandas as pd\n",
    "import matplotlib.pyplot as plt\n",
    "import numpy as np"
   ]
  },
  {
   "cell_type": "code",
   "execution_count": 17,
   "id": "1eb96012",
   "metadata": {},
   "outputs": [],
   "source": [
    "data = ['Allied Signal', 24.23], ['Bankers Trust', 25.53], ['General Mills',25.41],['ITT Industries', 24.14], ['J.P.Morgan & Co.',29.62],['Lehman Brothers',28.25], ['Marriott',25.81],['MCI',24.39],['Merrill Lynch',40.26], ['Microsoft',32.95],['Morgan Stanley',91.36],['Sun Microsystems',25.99], ['Travelers',39.42], ['US Airways',26.71], ['Warner-Lambert',35.00]\n",
    "df = pd.DataFrame(data, columns=['Name of company', 'Measure X'])"
   ]
  },
  {
   "cell_type": "code",
   "execution_count": 28,
   "id": "e2c81121",
   "metadata": {},
   "outputs": [
    {
     "data": {
      "image/png": "[encoded data removed]",
      "text/plain": [
       "<Figure size 576x288 with 1 Axes>"
      ]
     },
     "metadata": {
      "needs_background": "light"
     },
     "output_type": "display_data"
    }
   ],
   "source": [
    "fig = plt.figure(figsize =(8, 4))\n",
    "plt.boxplot(df['Measure X'])\n",
    "plt.show()"
   ]
  },
  {
   "cell_type": "code",
   "execution_count": 36,
   "id": "bf657fe2",
   "metadata": {},
   "outputs": [
    {
     "data": {
      "text/plain": [
       "33.27133333333333"
      ]
     },
     "execution_count": 36,
     "metadata": {},
     "output_type": "execute_result"
    }
   ],
   "source": [
    "import statistics\n",
    "\n",
    "statistics.mean(df['Measure X'])"
   ]
  },
  {
   "cell_type": "code",
   "execution_count": 37,
   "id": "d60af53f",
   "metadata": {},
   "outputs": [
    {
     "data": {
      "text/plain": [
       "24.23"
      ]
     },
     "execution_count": 37,
     "metadata": {},
     "output_type": "execute_result"
    }
   ],
   "source": [
    "statistics.mode(df['Measure X'])"
   ]
  },
  {
   "cell_type": "code",
   "execution_count": 39,
   "id": "86c8bef2",
   "metadata": {},
   "outputs": [
    {
     "data": {
      "text/plain": [
       "287.1466123809524"
      ]
     },
     "execution_count": 39,
     "metadata": {},
     "output_type": "execute_result"
    }
   ],
   "source": [
    "statistics.variance(df['Measure X'])"
   ]
  },
  {
   "cell_type": "code",
   "execution_count": 40,
   "id": "b4bbb3b7",
   "metadata": {},
   "outputs": [
    {
     "data": {
      "text/plain": [
       "16.945400921222028"
      ]
     },
     "execution_count": 40,
     "metadata": {},
     "output_type": "execute_result"
    }
   ],
   "source": [
    "statistics.stdev(df['Measure X'])"
   ]
  },
  {
   "cell_type": "code",
   "execution_count": null,
   "id": "67bb14c7",
   "metadata": {},
   "outputs": [],
   "source": []
  }
 ],
 "metadata": {
  "kernelspec": {
   "display_name": "Python 3 (ipykernel)",
   "language": "python",
   "name": "python3"
  },
  "language_info": {
   "codemirror_mode": {
    "name": "ipython",
    "version": 3
   },
   "file_extension": ".py",
   "mimetype": "text/x-python",
   "name": "python",
   "nbconvert_exporter": "python",
   "pygments_lexer": "ipython3",
   "version": "3.9.7"
  }
 },
 "nbformat": 4,
 "nbformat_minor": 5
}
