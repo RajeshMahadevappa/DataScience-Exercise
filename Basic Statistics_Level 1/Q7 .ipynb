{
 "cells": [
  {
   "cell_type": "code",
   "execution_count": 8,
   "id": "e1206da7",
   "metadata": {},
   "outputs": [],
   "source": [
    "import os\n",
    "import pandas as pd \n",
    "import numpy as np "
   ]
  },
  {
   "cell_type": "code",
   "execution_count": 9,
   "id": "64113c5c",
   "metadata": {},
   "outputs": [],
   "source": [
    "data = pd.read_csv(\"Q7.csv\")"
   ]
  },
  {
   "cell_type": "code",
   "execution_count": 10,
   "id": "61cf02f2",
   "metadata": {},
   "outputs": [
    {
     "name": "stderr",
     "output_type": "stream",
     "text": [
      "C:\\Users\\RAJMAH~2\\AppData\\Local\\Temp/ipykernel_22564/3942730837.py:2: FutureWarning: Dropping of nuisance columns in DataFrame reductions (with 'numeric_only=None') is deprecated; in a future version this will raise TypeError.  Select only valid columns before calling the reduction.\n",
      "  var = data.var()\n"
     ]
    }
   ],
   "source": [
    "summary =  data.describe()\n",
    "var = data.var()\n",
    "Mode = data.mode()"
   ]
  },
  {
   "cell_type": "code",
   "execution_count": 11,
   "id": "458161f3",
   "metadata": {},
   "outputs": [
    {
     "name": "stdout",
     "output_type": "stream",
     "text": [
      "          Points      Score      Weigh\n",
      "count  32.000000  32.000000  32.000000\n",
      "mean    3.596563   3.217250  17.848750\n",
      "std     0.534679   0.978457   1.786943\n",
      "min     2.760000   1.513000  14.500000\n",
      "25%     3.080000   2.581250  16.892500\n",
      "50%     3.695000   3.325000  17.710000\n",
      "75%     3.920000   3.610000  18.900000\n",
      "max     4.930000   5.424000  22.900000\n"
     ]
    }
   ],
   "source": [
    "print(summary)"
   ]
  },
  {
   "cell_type": "code",
   "execution_count": 12,
   "id": "73ec7e52",
   "metadata": {},
   "outputs": [
    {
     "name": "stdout",
     "output_type": "stream",
     "text": [
      "Points    0.285881\n",
      "Score     0.957379\n",
      "Weigh     3.193166\n",
      "dtype: float64\n"
     ]
    }
   ],
   "source": [
    "print(var)"
   ]
  },
  {
   "cell_type": "code",
   "execution_count": 13,
   "id": "1461fd87",
   "metadata": {},
   "outputs": [
    {
     "name": "stdout",
     "output_type": "stream",
     "text": [
      "             Unnamed: 0  Points  Score  Weigh\n",
      "0           AMC Javelin    3.07   3.44  17.02\n",
      "1    Cadillac Fleetwood    3.92    NaN  18.90\n",
      "2            Camaro Z28     NaN    NaN    NaN\n",
      "3     Chrysler Imperial     NaN    NaN    NaN\n",
      "4            Datsun 710     NaN    NaN    NaN\n",
      "5      Dodge Challenger     NaN    NaN    NaN\n",
      "6            Duster 360     NaN    NaN    NaN\n",
      "7          Ferrari Dino     NaN    NaN    NaN\n",
      "8              Fiat 128     NaN    NaN    NaN\n",
      "9             Fiat X1-9     NaN    NaN    NaN\n",
      "10       Ford Pantera L     NaN    NaN    NaN\n",
      "11          Honda Civic     NaN    NaN    NaN\n",
      "12       Hornet 4 Drive     NaN    NaN    NaN\n",
      "13    Hornet Sportabout     NaN    NaN    NaN\n",
      "14  Lincoln Continental     NaN    NaN    NaN\n",
      "15         Lotus Europa     NaN    NaN    NaN\n",
      "16        Maserati Bora     NaN    NaN    NaN\n",
      "17            Mazda RX4     NaN    NaN    NaN\n",
      "18        Mazda RX4 Wag     NaN    NaN    NaN\n",
      "19             Merc 230     NaN    NaN    NaN\n",
      "20            Merc 240D     NaN    NaN    NaN\n",
      "21             Merc 280     NaN    NaN    NaN\n",
      "22            Merc 280C     NaN    NaN    NaN\n",
      "23           Merc 450SE     NaN    NaN    NaN\n",
      "24           Merc 450SL     NaN    NaN    NaN\n",
      "25          Merc 450SLC     NaN    NaN    NaN\n",
      "26     Pontiac Firebird     NaN    NaN    NaN\n",
      "27        Porsche 914-2     NaN    NaN    NaN\n",
      "28       Toyota Corolla     NaN    NaN    NaN\n",
      "29        Toyota Corona     NaN    NaN    NaN\n",
      "30              Valiant     NaN    NaN    NaN\n",
      "31           Volvo 142E     NaN    NaN    NaN\n"
     ]
    }
   ],
   "source": [
    "print(Mode)"
   ]
  },
  {
   "cell_type": "code",
   "execution_count": 14,
   "id": "93f710ab",
   "metadata": {},
   "outputs": [
    {
     "name": "stdout",
     "output_type": "stream",
     "text": [
      "Inferences : mean mode and median are not equal so we can say that data is skewed\n"
     ]
    }
   ],
   "source": [
    "print(\"Inferences : mean mode and median are not equal so we can say that data is skewed\")"
   ]
  },
  {
   "cell_type": "code",
   "execution_count": null,
   "id": "ddb2fd50",
   "metadata": {},
   "outputs": [],
   "source": []
  }
 ],
 "metadata": {
  "kernelspec": {
   "display_name": "Python 3 (ipykernel)",
   "language": "python",
   "name": "python3"
  },
  "language_info": {
   "codemirror_mode": {
    "name": "ipython",
    "version": 3
   },
   "file_extension": ".py",
   "mimetype": "text/x-python",
   "name": "python",
   "nbconvert_exporter": "python",
   "pygments_lexer": "ipython3",
   "version": "3.9.7"
  }
 },
 "nbformat": 4,
 "nbformat_minor": 5
}
