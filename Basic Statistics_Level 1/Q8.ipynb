{
 "cells": [
  {
   "cell_type": "code",
   "execution_count": 4,
   "id": "8d2acab8",
   "metadata": {},
   "outputs": [],
   "source": [
    "import numpy as np\n",
    "import pandas as pd\n"
   ]
  },
  {
   "cell_type": "code",
   "execution_count": 5,
   "id": "c24bf16f",
   "metadata": {},
   "outputs": [],
   "source": [
    "weight = [108, 110, 123, 134, 135, 145, 167, 187, 199]\n",
    "df = pd.DataFrame(weight)"
   ]
  },
  {
   "cell_type": "code",
   "execution_count": 6,
   "id": "99887593",
   "metadata": {},
   "outputs": [
    {
     "name": "stdout",
     "output_type": "stream",
     "text": [
      "The Expected Value of the Weight of that patient is  0    145.333333\n",
      "dtype: float64\n"
     ]
    }
   ],
   "source": [
    "weight_of_paitenet =  df.mean()\n",
    "print(\"The Expected Value of the Weight of that patient is \",weight_of_paitenet)"
   ]
  }
 ],
 "metadata": {
  "kernelspec": {
   "display_name": "Python 3 (ipykernel)",
   "language": "python",
   "name": "python3"
  },
  "language_info": {
   "codemirror_mode": {
    "name": "ipython",
    "version": 3
   },
   "file_extension": ".py",
   "mimetype": "text/x-python",
   "name": "python",
   "nbconvert_exporter": "python",
   "pygments_lexer": "ipython3",
   "version": "3.9.7"
  }
 },
 "nbformat": 4,
 "nbformat_minor": 5
}
