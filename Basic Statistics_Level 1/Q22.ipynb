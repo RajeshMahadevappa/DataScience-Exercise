{
 "cells": [
  {
   "cell_type": "code",
   "execution_count": 6,
   "id": "2dfb3486",
   "metadata": {},
   "outputs": [],
   "source": [
    "from scipy import stats"
   ]
  },
  {
   "cell_type": "code",
   "execution_count": 13,
   "id": "22d525b8",
   "metadata": {},
   "outputs": [
    {
     "data": {
      "text/plain": [
       "1.2815515655446004"
      ]
     },
     "execution_count": 13,
     "metadata": {},
     "output_type": "execute_result"
    }
   ],
   "source": [
    "Z_90 = stats.norm.ppf(0.90)\n",
    "Z_90"
   ]
  },
  {
   "cell_type": "code",
   "execution_count": 14,
   "id": "f4242dcc",
   "metadata": {},
   "outputs": [
    {
     "data": {
      "text/plain": [
       "1.5547735945968535"
      ]
     },
     "execution_count": 14,
     "metadata": {},
     "output_type": "execute_result"
    }
   ],
   "source": [
    "Z_94 = stats.norm.ppf(0.94)\n",
    "Z_94"
   ]
  },
  {
   "cell_type": "code",
   "execution_count": 15,
   "id": "284b8146",
   "metadata": {},
   "outputs": [
    {
     "data": {
      "text/plain": [
       "0.8416212335729143"
      ]
     },
     "execution_count": 15,
     "metadata": {},
     "output_type": "execute_result"
    }
   ],
   "source": [
    "Z_80 = stats.norm.ppf(0.80)\n",
    "Z_80"
   ]
  },
  {
   "cell_type": "code",
   "execution_count": null,
   "id": "37cfcb60",
   "metadata": {},
   "outputs": [],
   "source": []
  }
 ],
 "metadata": {
  "kernelspec": {
   "display_name": "Python 3 (ipykernel)",
   "language": "python",
   "name": "python3"
  },
  "language_info": {
   "codemirror_mode": {
    "name": "ipython",
    "version": 3
   },
   "file_extension": ".py",
   "mimetype": "text/x-python",
   "name": "python",
   "nbconvert_exporter": "python",
   "pygments_lexer": "ipython3",
   "version": "3.9.7"
  }
 },
 "nbformat": 4,
 "nbformat_minor": 5
}
