{
 "cells": [
  {
   "cell_type": "code",
   "execution_count": 1,
   "id": "143a430e",
   "metadata": {},
   "outputs": [],
   "source": [
    "from scipy import stats"
   ]
  },
  {
   "cell_type": "code",
   "execution_count": 3,
   "id": "b875b92b",
   "metadata": {},
   "outputs": [
    {
     "data": {
      "text/plain": [
       "1.3163450765592588"
      ]
     },
     "execution_count": 3,
     "metadata": {},
     "output_type": "execute_result"
    }
   ],
   "source": [
    "Z_95 = stats.t.ppf(0.90,df=25)\n",
    "Z_95"
   ]
  },
  {
   "cell_type": "code",
   "execution_count": 4,
   "id": "c23f2d3e",
   "metadata": {},
   "outputs": [
    {
     "data": {
      "text/plain": [
       "1.8248284689556018"
      ]
     },
     "execution_count": 4,
     "metadata": {},
     "output_type": "execute_result"
    }
   ],
   "source": [
    "Z_96 = stats.t.ppf(0.96,df=25)\n",
    "Z_96"
   ]
  },
  {
   "cell_type": "code",
   "execution_count": 5,
   "id": "5d3c7df2",
   "metadata": {},
   "outputs": [
    {
     "data": {
      "text/plain": [
       "2.4851071754106413"
      ]
     },
     "execution_count": 5,
     "metadata": {},
     "output_type": "execute_result"
    }
   ],
   "source": [
    "Z_99 = stats.t.ppf(0.99,df=25)\n",
    "Z_99"
   ]
  },
  {
   "cell_type": "code",
   "execution_count": null,
   "id": "13b2d205",
   "metadata": {},
   "outputs": [],
   "source": []
  }
 ],
 "metadata": {
  "kernelspec": {
   "display_name": "Python 3 (ipykernel)",
   "language": "python",
   "name": "python3"
  },
  "language_info": {
   "codemirror_mode": {
    "name": "ipython",
    "version": 3
   },
   "file_extension": ".py",
   "mimetype": "text/x-python",
   "name": "python",
   "nbconvert_exporter": "python",
   "pygments_lexer": "ipython3",
   "version": "3.9.7"
  }
 },
 "nbformat": 4,
 "nbformat_minor": 5
}
