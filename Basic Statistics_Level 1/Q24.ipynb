{
 "cells": [
  {
   "cell_type": "code",
   "execution_count": 1,
   "id": "93d4d3ec",
   "metadata": {},
   "outputs": [],
   "source": [
    "from scipy import stats"
   ]
  },
  {
   "cell_type": "code",
   "execution_count": 2,
   "id": "df61b025",
   "metadata": {},
   "outputs": [],
   "source": [
    "S_mean = 260\n",
    "P_mean = 270  \n",
    "std = 90\n",
    "Tscore = (260 -270)/(90/(18**0.5))"
   ]
  },
  {
   "cell_type": "code",
   "execution_count": 3,
   "id": "3ffe89c2",
   "metadata": {},
   "outputs": [
    {
     "data": {
      "text/plain": [
       "-0.4714045207910317"
      ]
     },
     "execution_count": 3,
     "metadata": {},
     "output_type": "execute_result"
    }
   ],
   "source": [
    "Tscore"
   ]
  },
  {
   "cell_type": "code",
   "execution_count": 4,
   "id": "2eaa5f56",
   "metadata": {},
   "outputs": [
    {
     "data": {
      "text/plain": [
       "0.32167253567098364"
      ]
     },
     "execution_count": 4,
     "metadata": {},
     "output_type": "execute_result"
    }
   ],
   "source": [
    "stats.t.cdf((Tscore),17)"
   ]
  },
  {
   "cell_type": "code",
   "execution_count": null,
   "id": "462e3b4d",
   "metadata": {},
   "outputs": [],
   "source": []
  }
 ],
 "metadata": {
  "kernelspec": {
   "display_name": "Python 3 (ipykernel)",
   "language": "python",
   "name": "python3"
  },
  "language_info": {
   "codemirror_mode": {
    "name": "ipython",
    "version": 3
   },
   "file_extension": ".py",
   "mimetype": "text/x-python",
   "name": "python",
   "nbconvert_exporter": "python",
   "pygments_lexer": "ipython3",
   "version": "3.9.7"
  }
 },
 "nbformat": 4,
 "nbformat_minor": 5
}
